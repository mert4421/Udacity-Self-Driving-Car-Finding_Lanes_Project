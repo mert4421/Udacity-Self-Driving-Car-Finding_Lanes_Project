{
 "cells": [
  {
   "cell_type": "markdown",
   "metadata": {},
   "source": [
    "# Finding Lane Lines on the Road (Write up)"
   ]
  },
  {
   "cell_type": "markdown",
   "metadata": {},
   "source": [
    "## Pipeline description"
   ]
  },
  {
   "cell_type": "markdown",
   "metadata": {},
   "source": [
    "My pipeline consisted of 6 steps. First, I used the cv2.cvtColor method to convert the image to grayscale. I then used the cv2.GaussianBlur method to smooth the image to reduce noise. I passed the blurred image to cv2.Canny with computing threshold through the median of the single channel intensities. After finding the edges, I narrowed down the scope of focus using a mask to limit to the region we expect the lane to fall into. Using the cv2.HoughLinesP and cv2.addWeighted methods, I was able to draw our detected lines onto our image."
   ]
  },
  {
   "cell_type": "markdown",
   "metadata": {},
   "source": [
    "## Identify potential shortcomings with your current pipeline"
   ]
  },
  {
   "cell_type": "markdown",
   "metadata": {},
   "source": [
    "One potential shortcoming is the pre-determined min and max parameters for the hough transformation function. I imagine differences in lane markings, such as the distance between dashed lanes, would impact the pipeline's ability to accurately detect lanes. Additionally, the pipeline has some shortcomings when it comes to curves. If the lane turns at an angle great enough to move the lane \"end\" from the center of the graph, the detected lane lines will not align with reality. It's also possible the lane will move outside the \"region_of_interest\" we have defined."
   ]
  },
  {
   "cell_type": "markdown",
   "metadata": {},
   "source": [
    "## Suggest possible improvements to your pipeline"
   ]
  },
  {
   "cell_type": "markdown",
   "metadata": {},
   "source": [
    "An improvement would be implement a code with better performance on shadow (darker) zones."
   ]
  },
  {
   "cell_type": "code",
   "execution_count": null,
   "metadata": {},
   "outputs": [],
   "source": []
  }
 ],
 "metadata": {
  "kernelspec": {
   "display_name": "Python 3",
   "language": "python",
   "name": "python3"
  },
  "language_info": {
   "codemirror_mode": {
    "name": "ipython",
    "version": 3
   },
   "file_extension": ".py",
   "mimetype": "text/x-python",
   "name": "python",
   "nbconvert_exporter": "python",
   "pygments_lexer": "ipython3",
   "version": "3.7.6"
  }
 },
 "nbformat": 4,
 "nbformat_minor": 4
}
